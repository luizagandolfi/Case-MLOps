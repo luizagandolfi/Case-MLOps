{
 "cells": [
  {
   "cell_type": "code",
   "execution_count": 2,
   "metadata": {},
   "outputs": [
    {
     "name": "stdout",
     "output_type": "stream",
     "text": [
      "Collecting category_encoders\n",
      "  Downloading category_encoders-2.6.3-py2.py3-none-any.whl (81 kB)\n",
      "     -------------------------------------- 81.9/81.9 kB 906.6 kB/s eta 0:00:00\n",
      "Requirement already satisfied: statsmodels>=0.9.0 in c:\\users\\luiza.barioto\\anaconda3\\lib\\site-packages (from category_encoders) (0.13.2)\n",
      "Requirement already satisfied: scikit-learn>=0.20.0 in c:\\users\\luiza.barioto\\anaconda3\\lib\\site-packages (from category_encoders) (1.0.2)\n",
      "Requirement already satisfied: patsy>=0.5.1 in c:\\users\\luiza.barioto\\anaconda3\\lib\\site-packages (from category_encoders) (0.5.2)\n",
      "Requirement already satisfied: scipy>=1.0.0 in c:\\users\\luiza.barioto\\anaconda3\\lib\\site-packages (from category_encoders) (1.9.1)\n",
      "Requirement already satisfied: numpy>=1.14.0 in c:\\users\\luiza.barioto\\anaconda3\\lib\\site-packages (from category_encoders) (1.21.5)\n",
      "Requirement already satisfied: pandas>=1.0.5 in c:\\users\\luiza.barioto\\anaconda3\\lib\\site-packages (from category_encoders) (1.4.4)\n",
      "Requirement already satisfied: python-dateutil>=2.8.1 in c:\\users\\luiza.barioto\\anaconda3\\lib\\site-packages (from pandas>=1.0.5->category_encoders) (2.8.2)\n",
      "Requirement already satisfied: pytz>=2020.1 in c:\\users\\luiza.barioto\\anaconda3\\lib\\site-packages (from pandas>=1.0.5->category_encoders) (2022.1)\n",
      "Requirement already satisfied: six in c:\\users\\luiza.barioto\\anaconda3\\lib\\site-packages (from patsy>=0.5.1->category_encoders) (1.16.0)\n",
      "Requirement already satisfied: threadpoolctl>=2.0.0 in c:\\users\\luiza.barioto\\anaconda3\\lib\\site-packages (from scikit-learn>=0.20.0->category_encoders) (2.2.0)\n",
      "Requirement already satisfied: joblib>=0.11 in c:\\users\\luiza.barioto\\anaconda3\\lib\\site-packages (from scikit-learn>=0.20.0->category_encoders) (1.1.0)\n",
      "Requirement already satisfied: packaging>=21.3 in c:\\users\\luiza.barioto\\anaconda3\\lib\\site-packages (from statsmodels>=0.9.0->category_encoders) (21.3)\n",
      "Requirement already satisfied: pyparsing!=3.0.5,>=2.0.2 in c:\\users\\luiza.barioto\\anaconda3\\lib\\site-packages (from packaging>=21.3->statsmodels>=0.9.0->category_encoders) (3.0.9)\n",
      "Installing collected packages: category_encoders\n",
      "Successfully installed category_encoders-2.6.3\n",
      "Requirement already satisfied: pandas in c:\\users\\luiza.barioto\\anaconda3\\lib\\site-packages (1.4.4)\n",
      "Requirement already satisfied: numpy>=1.18.5 in c:\\users\\luiza.barioto\\anaconda3\\lib\\site-packages (from pandas) (1.21.5)\n",
      "Requirement already satisfied: pytz>=2020.1 in c:\\users\\luiza.barioto\\anaconda3\\lib\\site-packages (from pandas) (2022.1)\n",
      "Requirement already satisfied: python-dateutil>=2.8.1 in c:\\users\\luiza.barioto\\anaconda3\\lib\\site-packages (from pandas) (2.8.2)\n",
      "Requirement already satisfied: six>=1.5 in c:\\users\\luiza.barioto\\anaconda3\\lib\\site-packages (from python-dateutil>=2.8.1->pandas) (1.16.0)\n",
      "Requirement already satisfied: scikit-learn in c:\\users\\luiza.barioto\\anaconda3\\lib\\site-packages (1.0.2)\n",
      "Requirement already satisfied: threadpoolctl>=2.0.0 in c:\\users\\luiza.barioto\\anaconda3\\lib\\site-packages (from scikit-learn) (2.2.0)\n",
      "Requirement already satisfied: scipy>=1.1.0 in c:\\users\\luiza.barioto\\anaconda3\\lib\\site-packages (from scikit-learn) (1.9.1)\n",
      "Requirement already satisfied: joblib>=0.11 in c:\\users\\luiza.barioto\\anaconda3\\lib\\site-packages (from scikit-learn) (1.1.0)\n",
      "Requirement already satisfied: numpy>=1.14.6 in c:\\users\\luiza.barioto\\anaconda3\\lib\\site-packages (from scikit-learn) (1.21.5)\n"
     ]
    }
   ],
   "source": [
    "!pip install category_encoders\n",
    "!pip install pandas\n",
    "!pip install scikit-learn"
   ]
  },
  {
   "cell_type": "code",
   "execution_count": 3,
   "metadata": {},
   "outputs": [],
   "source": [
    "import pandas as pd\n",
    "import numpy as np\n",
    "\n",
    "from sklearn.metrics import (\n",
    "    mean_squared_error,\n",
    "    mean_absolute_percentage_error,\n",
    "    mean_absolute_error)\n",
    "\n",
    "from category_encoders import TargetEncoder\n",
    "from sklearn.pipeline import Pipeline\n",
    "from sklearn.compose import ColumnTransformer\n",
    "from sklearn.ensemble import GradientBoostingRegressor\n",
    "from sklearn.model_selection import GridSearchCV\n"
   ]
  },
  {
   "cell_type": "code",
   "execution_count": 6,
   "metadata": {},
   "outputs": [],
   "source": [
    "def load_data(train_path:str, test_path:str) -> (pd.DataFrame, pd.DataFrame):\n",
    "    \"\"\"\n",
    "    Loads the train and test data into pandas DataFrames\n",
    "    \"\"\"\n",
    "    train = pd.read_csv(train_path)\n",
    "    test = pd.read_csv(test_path)\n",
    "    return train, test\n",
    "\n",
    "train, test = load_data('train.csv', 'test.csv')"
   ]
  },
  {
   "cell_type": "code",
   "execution_count": 7,
   "metadata": {},
   "outputs": [],
   "source": [
    "train_cols = [\n",
    "    col for col in train.columns if col not in ['id', 'target']\n",
    "    ]\n",
    "\n",
    "categorical_cols = [\"type\", \"sector\"]\n",
    "target           = \"price\""
   ]
  },
  {
   "cell_type": "code",
   "execution_count": 8,
   "metadata": {},
   "outputs": [],
   "source": [
    "categorical_transformer = TargetEncoder()\n",
    "\n",
    "preprocessor = ColumnTransformer(\n",
    "    transformers=[\n",
    "        ('categorical',\n",
    "          categorical_transformer,\n",
    "          categorical_cols)\n",
    "    ])\n",
    "\n",
    "steps = [\n",
    "    ('preprocessor', preprocessor),\n",
    "    ('model', GradientBoostingRegressor(**{\n",
    "        \"learning_rate\":0.01,\n",
    "        \"n_estimators\":300,\n",
    "        \"max_depth\":5,\n",
    "        \"loss\":\"absolute_error\"\n",
    "    }))\n",
    "]\n",
    "\n",
    "pipeline = Pipeline(steps)\n"
   ]
  },
  {
   "cell_type": "code",
   "execution_count": 9,
   "metadata": {},
   "outputs": [
    {
     "name": "stdout",
     "output_type": "stream",
     "text": [
      "               type        sector  net_usable_area  net_area  n_rooms  \\\n",
      "0      departamento      vitacura            140.0     170.0      4.0   \n",
      "1              casa      la reina            225.0     659.0      4.0   \n",
      "2              casa    las condes            110.0     200.0      3.0   \n",
      "3      departamento  lo barnechea            250.0     250.0      3.0   \n",
      "4      departamento   providencia             70.0      79.0      2.0   \n",
      "...             ...           ...              ...       ...      ...   \n",
      "16207  departamento    las condes            140.0     176.0      4.0   \n",
      "16208          casa    las condes            600.0    3683.0      5.0   \n",
      "16209  departamento   providencia             68.0      75.0      3.0   \n",
      "16210  departamento    las condes             74.0      92.0      2.0   \n",
      "16211  departamento    las condes            140.0     154.0      4.0   \n",
      "\n",
      "       n_bathroom  latitude  longitude  price  \n",
      "0             4.0 -33.40123  -70.58056  11900  \n",
      "1             3.0 -33.44340  -70.56920  17900  \n",
      "2             3.0 -33.39320  -70.55050  10300  \n",
      "3             4.0 -33.35670  -70.54260  30000  \n",
      "4             2.0 -33.44425  -70.61317   5700  \n",
      "...           ...       ...        ...    ...  \n",
      "16207         3.0 -33.42117  -70.50105  10786  \n",
      "16208         7.0 -33.39400  -70.53120  96000  \n",
      "16209         2.0 -33.45223  -70.62194   5300  \n",
      "16210         2.0 -33.42117  -70.50105  11000  \n",
      "16211         4.0 -33.40743  -70.58156  11750  \n",
      "\n",
      "[16212 rows x 9 columns]\n"
     ]
    }
   ],
   "source": [
    "pipeline.fit(train[train_cols], train[target])"
   ]
  },
  {
   "cell_type": "code",
   "execution_count": 14,
   "metadata": {},
   "outputs": [
    {
     "name": "stdout",
     "output_type": "stream",
     "text": [
      "              type       sector  net_usable_area  net_area  n_rooms  \\\n",
      "0             casa     vitacura            152.0     257.0      3.0   \n",
      "1     departamento   las condes            140.0     165.0      4.0   \n",
      "2     departamento     la reina            101.0     101.0      4.0   \n",
      "3     departamento  providencia             80.0     112.0      1.0   \n",
      "4     departamento     vitacura            200.0     200.0      3.0   \n",
      "...            ...          ...              ...       ...      ...   \n",
      "6944  departamento        nunoa             45.0      57.0      1.0   \n",
      "6945  departamento  providencia             66.0      78.0      2.0   \n",
      "6946  departamento   las condes             58.0      58.0      1.0   \n",
      "6947  departamento   las condes            135.0     135.0      4.0   \n",
      "6948  departamento  providencia            111.0     152.0      3.0   \n",
      "\n",
      "      n_bathroom  latitude  longitude  price  \n",
      "0            3.0 -33.37940  -70.54470  18500  \n",
      "1            4.0 -33.41135  -70.56977  14500  \n",
      "2            3.0 -33.44154  -70.55704   6522  \n",
      "3            2.0 -33.42486  -70.60868   6100  \n",
      "4            4.0 -33.40490  -70.59450  19000  \n",
      "...          ...       ...        ...    ...  \n",
      "6944         1.0 -33.44861  -70.61880   4700  \n",
      "6945         2.0 -33.43054  -70.59725   6400  \n",
      "6946         1.0 -33.40033  -70.50269   5100  \n",
      "6947         4.0 -33.42368  -70.58209   9490  \n",
      "6948         2.0 -33.43320  -70.59900   8500  \n",
      "\n",
      "[6949 rows x 9 columns]\n"
     ]
    }
   ],
   "source": [
    "print(test[train_cols])"
   ]
  },
  {
   "cell_type": "code",
   "execution_count": 16,
   "metadata": {},
   "outputs": [
    {
     "name": "stdout",
     "output_type": "stream",
     "text": [
      "[21534.11150632 10450.68312672  7935.39629154 ... 10450.68312672\n",
      " 10450.68312672  7424.73125166]\n"
     ]
    }
   ],
   "source": [
    "test_predictions = pipeline.predict(test[train_cols])\n",
    "test_target = test[target].values\n",
    "print(test_predictions)"
   ]
  },
  {
   "cell_type": "code",
   "execution_count": 34,
   "metadata": {},
   "outputs": [
    {
     "data": {
      "text/plain": [
       "(numpy.ndarray, numpy.ndarray)"
      ]
     },
     "execution_count": 34,
     "metadata": {},
     "output_type": "execute_result"
    }
   ],
   "source": [
    "type(test_predictions), type(test_target)"
   ]
  },
  {
   "cell_type": "code",
   "execution_count": 35,
   "metadata": {},
   "outputs": [],
   "source": [
    "def print_metrics(predictions, target):\n",
    "    print(\"RMSE: \", np.sqrt(mean_squared_error(predictions, target)))\n",
    "    print(\"MAPE: \", mean_absolute_percentage_error(predictions, target))\n",
    "    print(\"MAE : \", mean_absolute_error(predictions, target))"
   ]
  },
  {
   "cell_type": "code",
   "execution_count": 36,
   "metadata": {},
   "outputs": [
    {
     "name": "stdout",
     "output_type": "stream",
     "text": [
      "RMSE:  10254.155686652393\n",
      "MAPE:  0.40042979298798137\n",
      "MAE :  5859.374796053153\n"
     ]
    }
   ],
   "source": [
    "print_metrics(test_predictions, test_target)"
   ]
  }
 ],
 "metadata": {
  "kernelspec": {
   "display_name": "basic",
   "language": "python",
   "name": "python3"
  },
  "language_info": {
   "codemirror_mode": {
    "name": "ipython",
    "version": 3
   },
   "file_extension": ".py",
   "mimetype": "text/x-python",
   "name": "python",
   "nbconvert_exporter": "python",
   "pygments_lexer": "ipython3",
   "version": "3.9.13"
  },
  "orig_nbformat": 4
 },
 "nbformat": 4,
 "nbformat_minor": 2
}
